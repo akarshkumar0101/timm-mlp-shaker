{
 "cells": [
  {
   "cell_type": "code",
   "execution_count": 2,
   "metadata": {},
   "outputs": [],
   "source": [
    "%load_ext autoreload\n",
    "%autoreload 2"
   ]
  },
  {
   "cell_type": "code",
   "execution_count": 3,
   "metadata": {},
   "outputs": [],
   "source": [
    "%run imports.py"
   ]
  },
  {
   "cell_type": "code",
   "execution_count": 3,
   "metadata": {},
   "outputs": [],
   "source": [
    "task = mnist.MNIST()\n",
    "task.load_all_data(device)"
   ]
  },
  {
   "cell_type": "code",
   "execution_count": 29,
   "metadata": {},
   "outputs": [
    {
     "name": "stdout",
     "output_type": "stream",
     "text": [
      "torch.Size([1, 4, 4, 1, 7, 7])\n",
      "[ 0.  7. 14. 21. 28.]\n",
      "0.0\n",
      "0.0\n",
      "0.0\n",
      "0.0\n",
      "9.333333333333334\n",
      "9.333333333333334\n",
      "9.333333333333334\n",
      "9.333333333333334\n",
      "18.666666666666668\n",
      "18.666666666666668\n",
      "18.666666666666668\n",
      "18.666666666666668\n",
      "28.0\n",
      "28.0\n",
      "28.0\n",
      "28.0\n"
     ]
    }
   ],
   "source": [
    "X = task.X_train[[0]].cpu()\n",
    "# plt.imshow(X[0,0].numpy())\n",
    "# plt.show()\n",
    "\n",
    "def image2patches(X, n_patches, patch_size=None):\n",
    "    bs, c, h, w = X.shape\n",
    "    \n",
    "    np1, np2 = n_patches\n",
    "    if patch_size is None:\n",
    "        ps1, ps2 = int(h/np1), int(w/np2)\n",
    "    else:\n",
    "        ps1, ps2 = patch_size\n",
    "    result = torch.empty(bs, np1, np2, c, ps1, ps2, device=X.device, dtype=X.dtype)\n",
    "    print(result.shape)\n",
    "    print(np.linspace(0, h, np1+1))\n",
    "    for x in np.linspace(0, h, np1):\n",
    "        for p2 in range(np2):\n",
    "            print(x)\n",
    "#             print(p1, np1, h*p1/np1)\n",
    "#             x, y = h*(p1/np1), w*(p2/np2)\n",
    "#             xb, yb = x-ps1/2, y-ps2/2\n",
    "#             xa, ya = x+ps1/2, y+ps2/2\n",
    "#             print(xb, yb)\n",
    "#             patch = X[:, :, int(xb):int(xa), int(yb): int(ya)]\n",
    "#             print(patch.shape)\n",
    "#             result[:, p1, p2, :, :, :] = patch\n",
    "#     return result\n",
    "    \n",
    "    \n",
    "image2patches(X, (4, 4), )"
   ]
  },
  {
   "cell_type": "code",
   "execution_count": null,
   "metadata": {},
   "outputs": [],
   "source": []
  },
  {
   "cell_type": "code",
   "execution_count": null,
   "metadata": {},
   "outputs": [],
   "source": []
  },
  {
   "cell_type": "code",
   "execution_count": null,
   "metadata": {},
   "outputs": [],
   "source": []
  },
  {
   "cell_type": "code",
   "execution_count": null,
   "metadata": {},
   "outputs": [],
   "source": []
  },
  {
   "cell_type": "code",
   "execution_count": null,
   "metadata": {},
   "outputs": [],
   "source": []
  },
  {
   "cell_type": "code",
   "execution_count": 2,
   "metadata": {},
   "outputs": [],
   "source": [
    "with open('data/big.txt', 'r') as file:\n",
    "    data = file.read()"
   ]
  },
  {
   "cell_type": "code",
   "execution_count": 3,
   "metadata": {},
   "outputs": [
    {
     "data": {
      "text/plain": [
       "True"
      ]
     },
     "execution_count": 3,
     "metadata": {},
     "output_type": "execute_result"
    }
   ],
   "source": [
    "c = 'a'\n",
    "c >= 'a' and c<='z'"
   ]
  },
  {
   "cell_type": "code",
   "execution_count": 11,
   "metadata": {},
   "outputs": [
    {
     "data": {
      "text/plain": [
       "'the project gutenberg ebook of the adventures of sherlock holmesby sir arthur conan doyle in our series by sir arthur conan doylecopyright laws are changing all over the world be sure to check thecopyright laws for your country before downloading or redistributingthis or any other project gutenberg ebookthis header should be the first thing seen when viewing this projectgutenberg file  please do not remove it  do not change or edit theheader without written permissionplease read the legal small print and other information about theebook and project gutenberg at the bottom of this file  included isimportant information about your specific rights and restrictions inhow the file may be used  you can also find out about how to make adonation to project gutenberg and how to get involvedwelcome to the world of free plain vanilla electronic textsebooks readable by both humans and by computers since these ebooks were prepared by thousands of volunteerstitle the adventures of sherlock holmesaut'"
      ]
     },
     "execution_count": 11,
     "metadata": {},
     "output_type": "execute_result"
    }
   ],
   "source": [
    "datap = [c for c in data.lower() if (c >= 'a' and c<='z' or c==' ')]\n",
    "# print({a for a in datap})\n",
    "''.join(datap)[:1000]"
   ]
  },
  {
   "cell_type": "code",
   "execution_count": 32,
   "metadata": {},
   "outputs": [
    {
     "name": "stdout",
     "output_type": "stream",
     "text": [
      "11098\n",
      "66588\n"
     ]
    }
   ],
   "source": [
    "decoder_layer = nn.TransformerDecoderLayer(d_model=26, nhead=2, dim_feedforward=100)\n",
    "transformer_decoder = nn.TransformerDecoder(decoder_layer, num_layers=6)\n",
    "\n",
    "\n",
    "print(np.sum([p.numel() for p in decoder_layer.parameters()]))\n",
    "print(np.sum([p.numel() for p in transformer_decoder.parameters()]))"
   ]
  },
  {
   "cell_type": "code",
   "execution_count": 39,
   "metadata": {},
   "outputs": [
    {
     "data": {
      "text/plain": [
       "(torch.Size([9, 50, 26]), torch.Size([50, 9, 9]))"
      ]
     },
     "execution_count": 39,
     "metadata": {},
     "output_type": "execute_result"
    }
   ],
   "source": [
    "q, k, v = torch.randn(3, 9, 50, 26)\n",
    "out, out_weights = list(decoder_layer.modules())[1](q, k, v)\n",
    "out.shape, out_weights.shape"
   ]
  },
  {
   "cell_type": "code",
   "execution_count": 41,
   "metadata": {},
   "outputs": [
    {
     "data": {
      "text/plain": [
       "<matplotlib.image.AxesImage at 0x7f3393501290>"
      ]
     },
     "execution_count": 41,
     "metadata": {},
     "output_type": "execute_result"
    },
    {
     "data": {
      "image/png": "[encoded data removed]",
      "text/plain": [
       "<Figure size 432x288 with 1 Axes>"
      ]
     },
     "metadata": {
      "needs_background": "light"
     },
     "output_type": "display_data"
    }
   ],
   "source": [
    "plt.imshow(out_weights.detach().numpy()[0])"
   ]
  },
  {
   "cell_type": "code",
   "execution_count": 51,
   "metadata": {},
   "outputs": [],
   "source": [
    "from einops import rearrange, reduce, repeat"
   ]
  },
  {
   "cell_type": "code",
   "execution_count": null,
   "metadata": {},
   "outputs": [],
   "source": []
  },
  {
   "cell_type": "code",
   "execution_count": null,
   "metadata": {},
   "outputs": [],
   "source": [
    "def upsample_images(X, hw):\n",
    "    b, c, h, w = X.shape\n",
    "    nh, nw = hw\n",
    "    \n",
    "    nX = torch.zeros(b, c, nh, nw).to(X)\n",
    "    \n",
    "    return nX\n",
    "    \n",
    "    "
   ]
  },
  {
   "cell_type": "code",
   "execution_count": 111,
   "metadata": {},
   "outputs": [
    {
     "data": {
      "image/png": "[encoded data removed]",
      "text/plain": [
       "<Figure size 432x288 with 1 Axes>"
      ]
     },
     "metadata": {
      "needs_background": "light"
     },
     "output_type": "display_data"
    },
    {
     "data": {
      "image/png": "[encoded data removed]",
      "text/plain": [
       "<Figure size 432x288 with 49 Axes>"
      ]
     },
     "metadata": {},
     "output_type": "display_data"
    }
   ],
   "source": [
    "def patchify_images(X, n_patches):\n",
    "    np1, np2 = n_patches\n",
    "    b, c, h, w = X.shape\n",
    "    out = rearrange(X, 'b c (np1 ps1) (np2 ps2) -> b c np1 np2 ps1 ps2', np1=np1, np2=np2)\n",
    "    out = X.reshape(b, c, np1, h//np1, np2, w//np2).permute(0, 1, 2, 4, 3, 5)\n",
    "#     print(out.shape)\n",
    "    return out\n",
    "\n",
    "def show_patches(X, patches):\n",
    "    plt.imshow(X[0].detach().cpu().numpy())\n",
    "    plt.show()\n",
    "    c, h, w, _, _ = patches.shape\n",
    "    \n",
    "    for i in range(h):\n",
    "        for j in range(w):\n",
    "            plt.subplot(h, w, j+i*h+1)\n",
    "            plt.imshow(patches[0, i, j].detach().cpu().numpy())\n",
    "            plt.xticks([]);plt.yticks([]);\n",
    "    \n",
    "    \n",
    "\n",
    "temp = patchify_images(X, (7, 7,))\n",
    "\n",
    "show_patches(X[0], temp[0])\n"
   ]
  },
  {
   "cell_type": "code",
   "execution_count": null,
   "metadata": {},
   "outputs": [],
   "source": []
  },
  {
   "cell_type": "code",
   "execution_count": null,
   "metadata": {},
   "outputs": [],
   "source": []
  },
  {
   "cell_type": "code",
   "execution_count": null,
   "metadata": {},
   "outputs": [],
   "source": []
  },
  {
   "cell_type": "code",
   "execution_count": null,
   "metadata": {},
   "outputs": [],
   "source": []
  },
  {
   "cell_type": "code",
   "execution_count": null,
   "metadata": {},
   "outputs": [],
   "source": []
  },
  {
   "cell_type": "code",
   "execution_count": 5,
   "metadata": {},
   "outputs": [],
   "source": []
  },
  {
   "cell_type": "code",
   "execution_count": 7,
   "metadata": {},
   "outputs": [],
   "source": [
    "# class MLPMixerX2(nn.Module):\n",
    "#     \"\"\"\n",
    "#     Maps (bs, dim1*dim2) to (bs, dim1*dim2)\n",
    "#     \"\"\"\n",
    "#     def __init__(self, dim1a, dim1b, dim2a, dim2b, num_repeats, num_repeats2):\n",
    "#         super().__init__()\n",
    "        \n",
    "#         self.dim1, self.dim2 = dim1a*dim1b, dim2a*dim2b\n",
    "#         self.flip1s = nn.ModuleList([MLPMixer(dim1a, dim1b, num_repeats2) for _ in range(num_repeats)])\n",
    "#         self.flip2s = nn.ModuleList([MLPMixer(dim2a, dim2b, num_repeats2) for _ in range(num_repeats)])\n",
    "        \n",
    "#     def forward(self, x):\n",
    "#         shape = x.shape\n",
    "#         x = x.reshape(-1, self.dim2, self.dim1)\n",
    "#         for f1, f2 in zip(self.flip1s, self.flip2s):\n",
    "#             x = torch.relu(f1(x))\n",
    "#             x = x.transpose(-1, -2)\n",
    "#             x = torch.relu(f2(x))\n",
    "#             x = x.transpose(-1, -2)\n",
    "#         return x.reshape(shape)\n",
    "    \n",
    "# class MLPMixer(nn.Module):\n",
    "#     \"\"\"\n",
    "#     Maps (bs, dim1*dim2) to (bs, dim1*dim2)\n",
    "#     \"\"\"\n",
    "#     def __init__(self, dim1, dim2, num_repeats):\n",
    "#         super().__init__()\n",
    "        \n",
    "#         self.dim1, self.dim2 = dim1, dim2\n",
    "#         self.flip1s = nn.ModuleList([nn.Linear(dim1, dim1) for _ in range(num_repeats)])\n",
    "#         self.flip2s = nn.ModuleList([nn.Linear(dim2, dim2) for _ in range(num_repeats)])\n",
    "        \n",
    "#     def forward(self, x):\n",
    "#         shape = x.shape\n",
    "#         x = x.reshape(-1, self.dim2, self.dim1)\n",
    "#         for f1, f2 in zip(self.flip1s, self.flip2s):\n",
    "#             x = torch.relu(f1(x))\n",
    "#             x = x.transpose(-1, -2)\n",
    "#             x = torch.relu(f2(x))\n",
    "#             x = x.transpose(-1, -2)\n",
    "#         return x.reshape(shape)\n",
    "\n",
    "class LinearMNIST(nn.Module):\n",
    "    def __init__(self, prev_layer, dim_in):\n",
    "        super().__init__()\n",
    "        self.prev_layer = prev_layer\n",
    "        self.lin = nn.Linear(dim_in, 10)\n",
    "        \n",
    "        for p in self.lin.parameters():\n",
    "            p.requires_grad_(False)\n",
    "    def forward(self, x):\n",
    "        x = self.prev_layer(x)\n",
    "        x = x.reshape(len(x), -1)\n",
    "        x = self.lin(x)\n",
    "        return x.log_softmax(dim=-1)\n",
    "    \n",
    "# net = LinearMNIST(MLPMixerX2(7,4, 7, 4, 1, 1), 28*28)\n",
    "# print(np.sum([p.numel() for p in net.parameters()]))\n",
    "# net = LinearMNIST(MLPMixer(28, 28, 1), 28*28)\n",
    "# print(np.sum([p.numel() for p in net.parameters()]))\n",
    "# net = LinearMNIST(nn.Identity(), 28*28)\n",
    "# print(np.sum([p.numel() for p in net.parameters()]))\n",
    "        \n",
    "# net(torch.randn(3, 1, 28, 28)).shape"
   ]
  },
  {
   "cell_type": "code",
   "execution_count": 8,
   "metadata": {},
   "outputs": [
    {
     "name": "stdout",
     "output_type": "stream",
     "text": [
      "2176\n",
      "320\n",
      "768\n"
     ]
    },
    {
     "data": {
      "text/plain": [
       "torch.Size([3, 10])"
      ]
     },
     "execution_count": 8,
     "metadata": {},
     "output_type": "execute_result"
    }
   ],
   "source": [
    "class MLPMixer(nn.Module):\n",
    "    \"\"\"\n",
    "    Maps (bs, N) to (bs, N)\n",
    "    where N = dims[0]*dims[1]\n",
    "    \"\"\"\n",
    "    def __init__(self, dims, num_repeats):\n",
    "        super().__init__()\n",
    "        \n",
    "        self.dims1, self.dims2 = dims\n",
    "        \n",
    "        self.dims1prod = np.prod(flatten_list(self.dims1))\n",
    "        self.dims2prod = np.prod(flatten_list(self.dims2))\n",
    "        \n",
    "        self.num_repeats = num_repeats[0]\n",
    "        self.num_repeats_child = num_repeats[1:]\n",
    "        \n",
    "        if type(self.dims1) is list:\n",
    "            self.flip1s = nn.ModuleList([MLPMixer(self.dims1, self.num_repeats_child) for _ in range(self.num_repeats)])\n",
    "            self.flip2s = nn.ModuleList([MLPMixer(self.dims2, self.num_repeats_child) for _ in range(self.num_repeats)])\n",
    "        else:\n",
    "            self.flip1s = nn.ModuleList([nn.Linear(self.dims1prod, self.dims1prod) for _ in range(self.num_repeats)])\n",
    "            self.flip2s = nn.ModuleList([nn.Linear(self.dims2prod, self.dims2prod) for _ in range(self.num_repeats)])\n",
    "            \n",
    "        \n",
    "    def forward(self, x):\n",
    "        shape = x.shape\n",
    "        x = x.reshape(-1, self.dims2prod, self.dims1prod)\n",
    "        for f1, f2 in zip(self.flip1s, self.flip2s):\n",
    "            x = torch.relu(f1(x))\n",
    "            x = x.transpose(-1, -2)\n",
    "            x = torch.relu(f2(x))\n",
    "            x = x.transpose(-1, -2)\n",
    "        return x.reshape(shape)\n",
    "    \n",
    "linear_params = np.sum([p.numel() for p in LinearMNIST(nn.Identity(), 16*16).parameters()])\n",
    "\n",
    "# net = LinearMNIST(MLPMixer([28,28], [1]), 28*28)\n",
    "# print(np.sum([p.numel() for p in net.parameters()])-7850)\n",
    "# net(torch.randn(3, 1, 28, 28)).shape\n",
    "\n",
    "# net = LinearMNIST(MLPMixer([[7,4], [2,14]], [1, 1]), 28*28)\n",
    "# print(np.sum([p.numel() for p in net.parameters()])-7850)\n",
    "# net(torch.randn(3, 1, 28, 28)).shape\n",
    "\n",
    "# net = LinearMNIST(MLPMixer([[[1,7], [2,2]], [[2,1],[2,7]]], [1, 1, 1]), 28*28)\n",
    "# print(np.sum([p.numel() for p in net.parameters()])-7850)\n",
    "# net(torch.randn(3, 1, 28, 28)).shape\n",
    "\n",
    "net = LinearMNIST(MLPMixer([16,16], [4]), 16*16)\n",
    "print(np.sum([p.numel() for p in net.parameters()])-linear_params)\n",
    "net(torch.randn(3, 1, 16, 16)).shape\n",
    "\n",
    "net = LinearMNIST(MLPMixer([[4, 4],[4, 4]], [2, 2]), 16*16)\n",
    "print(np.sum([p.numel() for p in net.parameters()])-linear_params)\n",
    "net(torch.randn(3, 1, 16, 16)).shape\n",
    "\n",
    "net = LinearMNIST(MLPMixer([[[2,2], [2,2]], [[2,2],[2,2]]], [2, 2, 4]), 16*16)\n",
    "print(np.sum([p.numel() for p in net.parameters()])-linear_params)\n",
    "net(torch.randn(3, 1, 16, 16)).shape"
   ]
  },
  {
   "cell_type": "code",
   "execution_count": 109,
   "metadata": {},
   "outputs": [
    {
     "name": "stdout",
     "output_type": "stream",
     "text": [
      "torch.Size([5000, 1, 28, 28])\n",
      "torch.Size([5000, 1, 4, 4, 7, 7])\n"
     ]
    },
    {
     "data": {
      "text/plain": [
       "torch.Size([5000, 1, 16, 49])"
      ]
     },
     "execution_count": 109,
     "metadata": {},
     "output_type": "execute_result"
    }
   ],
   "source": [
    "print(X_batch.shape)\n",
    "rearrange(patchify_images(X_batch, (4,4)), 'b c np1 np2 ps1 ps2 -> b c (np1 np2) (ps1 ps2)').shape\n",
    "# print().reshape()"
   ]
  },
  {
   "cell_type": "code",
   "execution_count": 84,
   "metadata": {},
   "outputs": [
    {
     "name": "stdout",
     "output_type": "stream",
     "text": [
      "1624\n"
     ]
    },
    {
     "data": {
      "application/vnd.jupyter.widget-view+json": {
       "model_id": "dd65b5926a08409296650492ce6f73b7",
       "version_major": 2,
       "version_minor": 0
      },
      "text/plain": [
       "HBox(children=(FloatProgress(value=0.0, max=300.0), HTML(value='')))"
      ]
     },
     "metadata": {},
     "output_type": "display_data"
    },
    {
     "name": "stdout",
     "output_type": "stream",
     "text": [
      "\n"
     ]
    }
   ],
   "source": [
    "# net = LinearMNIST(MLPMixer([[[7,1],[2,2]],[[1,7],[2,2]]], [1,1,1]), 28*28)\n",
    "# net = LinearMNIST(MLPMixer([[7,4],[7,4]], [2, 2]), 28*28)\n",
    "net = LinearMNIST(MLPMixer([28,28], [1]), 28*28)\n",
    "# net = LinearMNIST(nn.Identity(), 28*28)\n",
    "print(np.sum([p.numel() for p in net.parameters()])-7850)\n",
    "net = net.to(device)\n",
    "opt = torch.optim.Adam(net.parameters(), lr=1e-2)\n",
    "\n",
    "bs = 5000\n",
    "\n",
    "data = []\n",
    "data.append(task.calc_pheo_fitness(net, None, device, 'test'))\n",
    "loop = tqdm(range(300))\n",
    "for epoch_idx in loop:\n",
    "    train_loader = zip(task.X_train.reshape(-1, bs, 1, 28, 28), \n",
    "                       task.Y_train.reshape(-1, bs))\n",
    "    for X_batch, Y_batch in train_loader:\n",
    "#         X_batch, Y_batch = X_batch.to(device), Y_batch.to(device)\n",
    "        Y_batch_pred = net(X_batch)\n",
    "        loss = task.loss_func(Y_batch_pred, Y_batch)\n",
    "        opt.zero_grad()\n",
    "        loss.backward()\n",
    "        opt.step()\n",
    "    fit = task.calc_pheo_fitness(net, None, device, 'test')\n",
    "    data.append(fit)\n",
    "    loop.set_postfix(fit)\n",
    "data = util.arr_dict2dict_arr(np.array(data))\n"
   ]
  },
  {
   "cell_type": "code",
   "execution_count": 97,
   "metadata": {},
   "outputs": [
    {
     "name": "stdout",
     "output_type": "stream",
     "text": [
      "608\n",
      "1624\n"
     ]
    }
   ],
   "source": [
    "net = LinearMNIST(MLPMixer([[7,4],[7,4]], [2, 2]), 28*28)\n",
    "print(np.sum([p.numel() for p in net.parameters()])-7850)\n",
    "net = LinearMNIST(MLPMixer([28,28], [1]), 28*28)\n",
    "print(np.sum([p.numel() for p in net.parameters()])-7850)"
   ]
  },
  {
   "cell_type": "code",
   "execution_count": 113,
   "metadata": {},
   "outputs": [
    {
     "data": {
      "image/png": "[encoded data removed]",
      "text/plain": [
       "<Figure size 1440x360 with 2 Axes>"
      ]
     },
     "metadata": {
      "needs_background": "light"
     },
     "output_type": "display_data"
    }
   ],
   "source": [
    "plt.figure(figsize=(20,5))\n",
    "plt.subplot(121)\n",
    "plt.plot(data_0['loss'], label='MLP-Shaker_0(MLP-Mixer)')\n",
    "plt.plot(data_1['loss'], label='MLP-Shaker_1')\n",
    "plt.ylim(0, 2.5)\n",
    "plt.legend()\n",
    "plt.title('loss vs epochs')\n",
    "plt.subplot(122)\n",
    "plt.plot(data_0['accuracy'], label='MLP-Shaker_0(MLP-Mixer)')\n",
    "plt.plot(data_1['accuracy'], label='MLP-Shaker_1')\n",
    "plt.ylim(0, 100)\n",
    "plt.legend()\n",
    "plt.title('accuracy vs epochs')\n",
    "plt.suptitle('MLP-Shaker_0 has 1624 params, MLP-Shaker_1 has 608 params')\n",
    "plt.show()"
   ]
  },
  {
   "cell_type": "code",
   "execution_count": null,
   "metadata": {},
   "outputs": [],
   "source": []
  },
  {
   "cell_type": "code",
   "execution_count": null,
   "metadata": {},
   "outputs": [],
   "source": []
  },
  {
   "cell_type": "code",
   "execution_count": null,
   "metadata": {},
   "outputs": [],
   "source": []
  },
  {
   "cell_type": "code",
   "execution_count": 23,
   "metadata": {},
   "outputs": [
    {
     "name": "stdout",
     "output_type": "stream",
     "text": [
      "Files already downloaded and verified\n",
      "Files already downloaded and verified\n"
     ]
    }
   ],
   "source": [
    "h, w = 256, 256\n",
    "bs_train, bs_test = 200, 400\n",
    "\n",
    "transform = torchvision.transforms.Compose([\n",
    "    torchvision.transforms.ToTensor(),\n",
    "    torchvision.transforms.Normalize((0.4914, 0.4822, 0.4465), (0.247, 0.243, 0.261)),\n",
    "    torchvision.transforms.Resize((h, w), ), \n",
    "])\n",
    "ds_train = torchvision.datasets.CIFAR10('~/datasets/cifar10/', train=True, download=True, transform=transform)\n",
    "ds_test = torchvision.datasets.CIFAR10('~/datasets/cifar10/', train=False, download=True, transform=transform)\n",
    "dl_train = torch.utils.data.DataLoader(ds_train, batch_size=bs_train, shuffle=True,)\n",
    "dl_test = torch.utils.data.DataLoader(ds_test, batch_size=bs_test, shuffle=True,)\n",
    "labels = ['airplane', 'automobile', 'bird', 'cat', 'deer', 'dog', 'frog', 'horse', 'ship', 'truck']"
   ]
  },
  {
   "cell_type": "code",
   "execution_count": null,
   "metadata": {},
   "outputs": [],
   "source": []
  },
  {
   "cell_type": "code",
   "execution_count": 20,
   "metadata": {},
   "outputs": [],
   "source": [
    "import einops"
   ]
  },
  {
   "cell_type": "code",
   "execution_count": 21,
   "metadata": {},
   "outputs": [],
   "source": [
    "X_batch, Y_batch = next(iter(dl_train))"
   ]
  },
  {
   "cell_type": "code",
   "execution_count": 22,
   "metadata": {},
   "outputs": [
    {
     "data": {
      "text/plain": [
       "(torch.Size([20, 3, 256, 256]), torch.Size([20]))"
      ]
     },
     "execution_count": 22,
     "metadata": {},
     "output_type": "execute_result"
    }
   ],
   "source": [
    "X_batch.shape, Y_batch.shape"
   ]
  },
  {
   "cell_type": "code",
   "execution_count": 32,
   "metadata": {},
   "outputs": [],
   "source": [
    "X_batch_patch = einops.rearrange(X_batch, 'b c (np1 ps1) (np2 ps2) -> b np1 np2 ps1 ps2 c', np1=16, np2=16)"
   ]
  },
  {
   "cell_type": "code",
   "execution_count": 107,
   "metadata": {},
   "outputs": [
    {
     "data": {
      "image/png": "[encoded data removed]",
      "text/plain": [
       "<Figure size 360x360 with 256 Axes>"
      ]
     },
     "metadata": {},
     "output_type": "display_data"
    },
    {
     "data": {
      "image/png": "[encoded data removed]",
      "text/plain": [
       "<Figure size 432x288 with 1 Axes>"
      ]
     },
     "metadata": {
      "needs_background": "light"
     },
     "output_type": "display_data"
    },
    {
     "name": "stdout",
     "output_type": "stream",
     "text": [
      "frog\n"
     ]
    }
   ],
   "source": [
    "def show_picture(X_batch, X_batch_patch, Y_batch, i=0):\n",
    "    plt.figure(figsize=(5,5))\n",
    "    for pi1 in range(16):\n",
    "        for pi2 in range(16):\n",
    "            plt.subplot(16, 16, pi1*16+pi2+1)\n",
    "            plt.imshow(X_batch_patch[i, pi1, pi2].numpy())\n",
    "            plt.xticks([]);plt.yticks([])\n",
    "    plt.show()\n",
    "    plt.imshow(X_batch[i].permute(1, 2, 0).numpy())\n",
    "    plt.show()\n",
    "    print(labels[Y_batch[i]])\n",
    "    \n",
    "show_picture(X_batch, X_batch_patch, Y_batch, 7)"
   ]
  },
  {
   "cell_type": "code",
   "execution_count": null,
   "metadata": {},
   "outputs": [],
   "source": []
  },
  {
   "cell_type": "code",
   "execution_count": 82,
   "metadata": {},
   "outputs": [],
   "source": [
    "import einops, einops.layers.torch"
   ]
  },
  {
   "cell_type": "code",
   "execution_count": 85,
   "metadata": {},
   "outputs": [],
   "source": [
    "class ConvNet(nn.Module):\n",
    "    def __init__(self):\n",
    "        super().__init__()\n",
    "        self.seq = nn.Sequential(*[\n",
    "            nn.Conv2d(3, 4, 3),\n",
    "            nn.MaxPool2d(3, 3),\n",
    "            nn.Conv2d(4, 8, 3),\n",
    "            nn.MaxPool2d(3, 3),\n",
    "            nn.Conv2d(8, 8, 3),\n",
    "            nn.MaxPool2d(3, 3),\n",
    "            nn.Conv2d(8, 10, 3),\n",
    "            nn.MaxPool2d(6, 6),\n",
    "            einops.layers.torch.Rearrange('b c h w -> b (c h w)'),\n",
    "            nn.Linear(10, 10),\n",
    "            nn.LogSoftmax(dim=-1),\n",
    "        ])\n",
    "    \n",
    "    def forward(self, x):\n",
    "        return self.seq(x)\n",
    "    \n",
    "    "
   ]
  },
  {
   "cell_type": "code",
   "execution_count": 93,
   "metadata": {},
   "outputs": [],
   "source": [
    "t = torchvision.transforms.ToTensor()"
   ]
  },
  {
   "cell_type": "code",
   "execution_count": 95,
   "metadata": {},
   "outputs": [],
   "source": [
    "import torchinfo"
   ]
  },
  {
   "cell_type": "code",
   "execution_count": 99,
   "metadata": {},
   "outputs": [
    {
     "data": {
      "text/plain": [
       "==========================================================================================\n",
       "Layer (type:depth-idx)                   Output Shape              Param #\n",
       "==========================================================================================\n",
       "ConvNet                                  --                        --\n",
       "├─Sequential: 1-1                        [1000, 10]                --\n",
       "│    └─Conv2d: 2-1                       [1000, 4, 254, 254]       112\n",
       "│    └─MaxPool2d: 2-2                    [1000, 4, 84, 84]         --\n",
       "│    └─Conv2d: 2-3                       [1000, 8, 82, 82]         296\n",
       "│    └─MaxPool2d: 2-4                    [1000, 8, 27, 27]         --\n",
       "│    └─Conv2d: 2-5                       [1000, 8, 25, 25]         584\n",
       "│    └─MaxPool2d: 2-6                    [1000, 8, 8, 8]           --\n",
       "│    └─Conv2d: 2-7                       [1000, 10, 6, 6]          730\n",
       "│    └─MaxPool2d: 2-8                    [1000, 10, 1, 1]          --\n",
       "│    └─Rearrange: 2-9                    [1000, 10]                --\n",
       "│    └─Linear: 2-10                      [1000, 10]                110\n",
       "│    └─LogSoftmax: 2-11                  [1000, 10]                --\n",
       "==========================================================================================\n",
       "Total params: 1,832\n",
       "Trainable params: 1,832\n",
       "Non-trainable params: 0\n",
       "Total mult-adds (G): 9.31\n",
       "==========================================================================================\n",
       "Input size (MB): 786.43\n",
       "Forward/backward pass size (MB): 2537.81\n",
       "Params size (MB): 0.01\n",
       "Estimated Total Size (MB): 3324.25\n",
       "=========================================================================================="
      ]
     },
     "execution_count": 99,
     "metadata": {},
     "output_type": "execute_result"
    }
   ],
   "source": [
    "torchinfo.summary(net, [1000, 3, 256, 256])"
   ]
  },
  {
   "cell_type": "code",
   "execution_count": 100,
   "metadata": {},
   "outputs": [],
   "source": [
    "import mlp_shaker_flat"
   ]
  },
  {
   "cell_type": "code",
   "execution_count": 104,
   "metadata": {},
   "outputs": [
    {
     "data": {
      "text/plain": [
       "==========================================================================================\n",
       "Layer (type:depth-idx)                   Output Shape              Param #\n",
       "==========================================================================================\n",
       "MLPFlatShaker                            --                        --\n",
       "├─ModuleList: 1                          --                        --\n",
       "│    └─MLPFlatShakerBlock: 2-1           [10, 3, 128, 256]         32,896\n",
       "│    └─MLPFlatShakerBlock: 2-2           [10, 3, 128, 128]         32,896\n",
       "│    └─MLPFlatShakerBlock: 2-3           [10, 3, 64, 128]          8,256\n",
       "│    └─MLPFlatShakerBlock: 2-4           [10, 3, 64, 64]           8,256\n",
       "│    └─MLPFlatShakerBlock: 2-5           [10, 3, 32, 64]           2,080\n",
       "│    └─MLPFlatShakerBlock: 2-6           [10, 3, 32, 32]           2,080\n",
       "│    └─MLPFlatShakerBlock: 2-7           [10, 3, 16, 32]           528\n",
       "│    └─MLPFlatShakerBlock: 2-8           [10, 3, 16, 16]           528\n",
       "==========================================================================================\n",
       "Total params: 87,520\n",
       "Trainable params: 87,520\n",
       "Non-trainable params: 0\n",
       "Total mult-adds (M): 0.87\n",
       "==========================================================================================\n",
       "Input size (MB): 7.86\n",
       "Forward/backward pass size (MB): 15.67\n",
       "Params size (MB): 0.35\n",
       "Estimated Total Size (MB): 23.88\n",
       "=========================================================================================="
      ]
     },
     "execution_count": 104,
     "metadata": {},
     "output_type": "execute_result"
    }
   ],
   "source": [
    "m = mlp_shaker_flat.MLPFlatShaker(shape=[3, 256, 256], dims_to_mix=[1, 2, 1, 2, 1, 2, 1, 2], target_lengths=[128, 128, 64, 64, 32, 32, 16, 16])\n",
    "\n",
    "summary(m, [10, 3, 256, 256])"
   ]
  },
  {
   "cell_type": "code",
   "execution_count": null,
   "metadata": {},
   "outputs": [],
   "source": []
  },
  {
   "cell_type": "code",
   "execution_count": null,
   "metadata": {},
   "outputs": [],
   "source": []
  },
  {
   "cell_type": "code",
   "execution_count": 90,
   "metadata": {},
   "outputs": [
    {
     "data": {
      "application/vnd.jupyter.widget-view+json": {
       "model_id": "5b5e4f8c677b482ba9934d0171fc702f",
       "version_major": 2,
       "version_minor": 0
      },
      "text/plain": [
       "HBox(children=(FloatProgress(value=0.0, max=250.0), HTML(value='')))"
      ]
     },
     "metadata": {},
     "output_type": "display_data"
    },
    {
     "ename": "KeyboardInterrupt",
     "evalue": "",
     "output_type": "error",
     "traceback": [
      "\u001b[0;31m---------------------------------------------------------------------------\u001b[0m",
      "\u001b[0;31mKeyboardInterrupt\u001b[0m                         Traceback (most recent call last)",
      "\u001b[0;32m<ipython-input-90-52eafe33774d>\u001b[0m in \u001b[0;36m<module>\u001b[0;34m\u001b[0m\n\u001b[1;32m     15\u001b[0m \u001b[0;34m\u001b[0m\u001b[0m\n\u001b[1;32m     16\u001b[0m \u001b[0mnet\u001b[0m \u001b[0;34m=\u001b[0m \u001b[0mConvNet\u001b[0m\u001b[0;34m(\u001b[0m\u001b[0;34m)\u001b[0m\u001b[0;34m\u001b[0m\u001b[0;34m\u001b[0m\u001b[0m\n\u001b[0;32m---> 17\u001b[0;31m \u001b[0mtrain_model\u001b[0m\u001b[0;34m(\u001b[0m\u001b[0mnet\u001b[0m\u001b[0;34m,\u001b[0m \u001b[0mdl_train\u001b[0m\u001b[0;34m)\u001b[0m\u001b[0;34m\u001b[0m\u001b[0;34m\u001b[0m\u001b[0m\n\u001b[0m\u001b[1;32m     18\u001b[0m \u001b[0;34m\u001b[0m\u001b[0m\n\u001b[1;32m     19\u001b[0m \u001b[0;34m\u001b[0m\u001b[0m\n",
      "\u001b[0;32m<ipython-input-90-52eafe33774d>\u001b[0m in \u001b[0;36mtrain_model\u001b[0;34m(net, dl)\u001b[0m\n\u001b[1;32m      4\u001b[0m \u001b[0;34m\u001b[0m\u001b[0m\n\u001b[1;32m      5\u001b[0m     \u001b[0;32mfor\u001b[0m \u001b[0mepoch_idx\u001b[0m\u001b[0;34m,\u001b[0m \u001b[0;34m(\u001b[0m\u001b[0mX_batch\u001b[0m\u001b[0;34m,\u001b[0m \u001b[0mY_batch\u001b[0m\u001b[0;34m)\u001b[0m \u001b[0;32min\u001b[0m \u001b[0mtqdm\u001b[0m\u001b[0;34m(\u001b[0m\u001b[0menumerate\u001b[0m\u001b[0;34m(\u001b[0m\u001b[0mdl\u001b[0m\u001b[0;34m)\u001b[0m\u001b[0;34m,\u001b[0m \u001b[0mtotal\u001b[0m\u001b[0;34m=\u001b[0m\u001b[0mlen\u001b[0m\u001b[0;34m(\u001b[0m\u001b[0mdl\u001b[0m\u001b[0;34m)\u001b[0m\u001b[0;34m,\u001b[0m \u001b[0mleave\u001b[0m\u001b[0;34m=\u001b[0m\u001b[0;32mFalse\u001b[0m\u001b[0;34m)\u001b[0m\u001b[0;34m:\u001b[0m\u001b[0;34m\u001b[0m\u001b[0;34m\u001b[0m\u001b[0m\n\u001b[0;32m----> 6\u001b[0;31m         \u001b[0mY_batch_pred\u001b[0m \u001b[0;34m=\u001b[0m \u001b[0mnet\u001b[0m\u001b[0;34m(\u001b[0m\u001b[0mX_batch\u001b[0m\u001b[0;34m)\u001b[0m\u001b[0;34m\u001b[0m\u001b[0;34m\u001b[0m\u001b[0m\n\u001b[0m\u001b[1;32m      7\u001b[0m \u001b[0;34m\u001b[0m\u001b[0m\n\u001b[1;32m      8\u001b[0m         \u001b[0mloss\u001b[0m \u001b[0;34m=\u001b[0m \u001b[0mloss_fn\u001b[0m\u001b[0;34m(\u001b[0m\u001b[0mY_batch_pred\u001b[0m\u001b[0;34m,\u001b[0m \u001b[0mY_batch\u001b[0m\u001b[0;34m)\u001b[0m\u001b[0;34m\u001b[0m\u001b[0;34m\u001b[0m\u001b[0m\n",
      "\u001b[0;32m~/.local/lib/python3.7/site-packages/torch/nn/modules/module.py\u001b[0m in \u001b[0;36m_call_impl\u001b[0;34m(self, *input, **kwargs)\u001b[0m\n\u001b[1;32m    864\u001b[0m         \u001b[0;32mreturn\u001b[0m \u001b[0mresult\u001b[0m\u001b[0;34m\u001b[0m\u001b[0;34m\u001b[0m\u001b[0m\n\u001b[1;32m    865\u001b[0m \u001b[0;34m\u001b[0m\u001b[0m\n\u001b[0;32m--> 866\u001b[0;31m     \u001b[0;32mdef\u001b[0m \u001b[0m_call_impl\u001b[0m\u001b[0;34m(\u001b[0m\u001b[0mself\u001b[0m\u001b[0;34m,\u001b[0m \u001b[0;34m*\u001b[0m\u001b[0minput\u001b[0m\u001b[0;34m,\u001b[0m \u001b[0;34m**\u001b[0m\u001b[0mkwargs\u001b[0m\u001b[0;34m)\u001b[0m\u001b[0;34m:\u001b[0m\u001b[0;34m\u001b[0m\u001b[0;34m\u001b[0m\u001b[0m\n\u001b[0m\u001b[1;32m    867\u001b[0m         \u001b[0;31m# Do not call functions when jit is used\u001b[0m\u001b[0;34m\u001b[0m\u001b[0;34m\u001b[0m\u001b[0;34m\u001b[0m\u001b[0m\n\u001b[1;32m    868\u001b[0m         \u001b[0mfull_backward_hooks\u001b[0m\u001b[0;34m,\u001b[0m \u001b[0mnon_full_backward_hooks\u001b[0m \u001b[0;34m=\u001b[0m \u001b[0;34m[\u001b[0m\u001b[0;34m]\u001b[0m\u001b[0;34m,\u001b[0m \u001b[0;34m[\u001b[0m\u001b[0;34m]\u001b[0m\u001b[0;34m\u001b[0m\u001b[0;34m\u001b[0m\u001b[0m\n",
      "\u001b[0;31mKeyboardInterrupt\u001b[0m: "
     ]
    }
   ],
   "source": [
    "loss_fn = nn.NLLLoss()\n",
    "def train_model(net, dl):\n",
    "    opt = torch.optim.Adam(net.parameters(), lr=1e-3, )\n",
    "    \n",
    "    for epoch_idx, (X_batch, Y_batch) in tqdm(enumerate(dl), total=len(dl), leave=False):\n",
    "        Y_batch_pred = net(X_batch)\n",
    "        \n",
    "        loss = loss_fn(Y_batch_pred, Y_batch)\n",
    "        \n",
    "        opt.zero_grad()\n",
    "        loss.backward()\n",
    "        opt.step()\n",
    "    \n",
    "    \n",
    "    \n",
    "net = ConvNet()\n",
    "train_model(net, dl_train)\n",
    "    \n",
    "    "
   ]
  },
  {
   "cell_type": "code",
   "execution_count": null,
   "metadata": {},
   "outputs": [],
   "source": []
  },
  {
   "cell_type": "code",
   "execution_count": null,
   "metadata": {},
   "outputs": [],
   "source": [
    "def perform_stats(self, net, dl=None, show_stats=True, n_batches=-1, tqdm=tqdm, device='cpu'):\n",
    "        if loader is None:\n",
    "            loader = self.loader_test\n",
    "        n_correct, total = 0, 0\n",
    "        loss_total = 0\n",
    "        n_examples = 0\n",
    "        loop = enumerate(loader)\n",
    "        if tqdm is not None:\n",
    "            loop = tqdm(loop, leave=False, total=max(n_batches, len(loader)))\n",
    "        for batch_idx, (X_batch, Y_batch) in loop:\n",
    "            X_batch, Y_batch = X_batch.to(device), Y_batch.to(device)\n",
    "            if batch_idx == n_batches:\n",
    "                break\n",
    "            Y_batch_pred = net(X_batch)\n",
    "            n_correct += (Y_batch_pred.argmax(dim=-1)==Y_batch).sum().item()\n",
    "            loss = self.loss_func(Y_batch_pred, Y_batch).item()\n",
    "            loss_total += loss * len(X_batch)\n",
    "            n_examples += len(X_batch)\n",
    "            total += len(Y_batch)\n",
    "        loss_total /= n_examples\n",
    "        accuracy = n_correct/total*100.\n",
    "        if show_stats:\n",
    "            print(f'Average Loss: {loss_total:.03f}, Accuracy: {accuracy:.03f}%')\n",
    "        return {'loss': loss_total, 'accuracy': accuracy}"
   ]
  },
  {
   "cell_type": "code",
   "execution_count": null,
   "metadata": {},
   "outputs": [],
   "source": []
  },
  {
   "cell_type": "code",
   "execution_count": null,
   "metadata": {},
   "outputs": [],
   "source": []
  },
  {
   "cell_type": "code",
   "execution_count": null,
   "metadata": {},
   "outputs": [],
   "source": []
  },
  {
   "cell_type": "code",
   "execution_count": null,
   "metadata": {},
   "outputs": [],
   "source": [
    "self.to_patch_embedding = nn.Sequential(\n",
    "    Rearrange('b c (h p1) (w p2) -> b (h w) (p1 p2 c)', p1 = patch_height, p2 = patch_width),\n",
    "#     nn.Linear(patch_dim, dim),\n",
    ")\n"
   ]
  },
  {
   "cell_type": "code",
   "execution_count": 8,
   "metadata": {},
   "outputs": [],
   "source": [
    "import models\n",
    "import util"
   ]
  },
  {
   "cell_type": "code",
   "execution_count": 47,
   "metadata": {},
   "outputs": [
    {
     "name": "stdout",
     "output_type": "stream",
     "text": [
      "1720\n"
     ]
    },
    {
     "data": {
      "text/plain": [
       "torch.Size([20, 3, 4, 4, 4, 4, 4, 4, 4, 4])"
      ]
     },
     "execution_count": 47,
     "metadata": {},
     "output_type": "execute_result"
    }
   ],
   "source": [
    "# net = models.MLPFlatShaker(shape=[3, 4, 4, 4, 4, 4, 4, 4, 4], dims_to_mix=list(np.arange(8))*100)\n",
    "net = models.MLPFlatShaker(shape= [3]+[4]*8, dims_to_mix=list(np.arange(9))*10)\n",
    "\n",
    "print(util.count_params(net))\n",
    "\n",
    "\n",
    "for X_batch, Y_batch in tqdm(dl_train):\n",
    "    Y_batch_pred = net(X_batch)"
   ]
  },
  {
   "cell_type": "code",
   "execution_count": null,
   "metadata": {},
   "outputs": [],
   "source": [
    "nn.LayerNorm()"
   ]
  },
  {
   "cell_type": "code",
   "execution_count": null,
   "metadata": {},
   "outputs": [],
   "source": []
  },
  {
   "cell_type": "code",
   "execution_count": null,
   "metadata": {},
   "outputs": [],
   "source": []
  },
  {
   "cell_type": "code",
   "execution_count": 86,
   "metadata": {},
   "outputs": [],
   "source": []
  },
  {
   "cell_type": "code",
   "execution_count": 340,
   "metadata": {},
   "outputs": [
    {
     "name": "stdout",
     "output_type": "stream",
     "text": [
      "[3, 128, 256]\n",
      "[3, 128, 128]\n",
      "[3, 64, 128]\n",
      "[3, 64, 64]\n",
      "[3, 32, 64]\n",
      "[3, 32, 32]\n",
      "[3, 16, 32]\n",
      "[3, 16, 16]\n"
     ]
    },
    {
     "data": {
      "text/plain": [
       "87520"
      ]
     },
     "execution_count": 340,
     "metadata": {},
     "output_type": "execute_result"
    }
   ],
   "source": [
    "shape = [3, 256, 256]\n",
    "x = torch.randn(100, *shape)\n",
    "m = MLPFlatShaker(shape=shape, dims_to_mix=[1, 2, 1, 2, 1, 2, 1, 2], target_lengths=[128, 128, 64, 64, 32, 32, 16, 16])\n",
    "m(x).shape\n",
    "\n",
    "count_params(m)"
   ]
  },
  {
   "cell_type": "code",
   "execution_count": null,
   "metadata": {},
   "outputs": [],
   "source": [
    "for X_batch, Y_batch in dl_train:\n",
    "    m(X_batch)\n",
    "#     print(X_batch.shape)"
   ]
  },
  {
   "cell_type": "code",
   "execution_count": null,
   "metadata": {},
   "outputs": [],
   "source": []
  },
  {
   "cell_type": "code",
   "execution_count": null,
   "metadata": {},
   "outputs": [],
   "source": []
  },
  {
   "cell_type": "code",
   "execution_count": null,
   "metadata": {},
   "outputs": [],
   "source": []
  },
  {
   "cell_type": "code",
   "execution_count": null,
   "metadata": {},
   "outputs": [],
   "source": []
  },
  {
   "cell_type": "code",
   "execution_count": null,
   "metadata": {},
   "outputs": [],
   "source": []
  },
  {
   "cell_type": "code",
   "execution_count": null,
   "metadata": {},
   "outputs": [],
   "source": []
  },
  {
   "cell_type": "code",
   "execution_count": 206,
   "metadata": {},
   "outputs": [
    {
     "name": "stdout",
     "output_type": "stream",
     "text": [
      "Decomposing (depth=3) [[32, 8], [16, [4, 2, 2]]] -> [256, 256]\n",
      "with repeats=[3, 2, 3]\n",
      "----> 3x \n",
      "\tDecomposing (depth=2) [32, 8] -> [32, 8]\n",
      "\twith repeats=[2, 3]\n",
      "\t----> 2x \n",
      "\tPutting Linear size 32\n",
      "\tPutting Linear size 8\n",
      "\t<----\n",
      "\tDecomposing (depth=2) [16, [4, 2, 2]] -> [16, 16]\n",
      "\twith repeats=[2, 3]\n",
      "\t----> 2x \n",
      "\tPutting Linear size 16\n",
      "\t\tDecomposing (depth=1) [4, 2, 2] -> [4, 2, 2]\n",
      "\t\twith repeats=[3]\n",
      "\t\t----> 3x \n",
      "\t\tPutting Linear size 4\n",
      "\t\tPutting Linear size 2\n",
      "\t\tPutting Linear size 2\n",
      "\t\t<----\n",
      "\t<----\n",
      "<----\n",
      "# parameters:  8976\n",
      "torch.Size([10, 65536]) --> torch.Size([10, 256, 256])\n",
      "torch.Size([10, 256, 256]) --> torch.Size([2560, 32, 8])\n",
      "Densely mixing with 32\n",
      "Densely mixing with 8\n",
      "Densely mixing with 32\n",
      "Densely mixing with 8\n",
      "torch.Size([10, 256, 256]) <-- torch.Size([2560, 32, 8])\n",
      "torch.Size([10, 256, 256]) --> torch.Size([2560, 16, 16])\n",
      "Densely mixing with 16\n",
      "torch.Size([2560, 16, 16]) --> torch.Size([40960, 4, 2, 2])\n",
      "Densely mixing with 4\n",
      "Densely mixing with 2\n",
      "Densely mixing with 2\n",
      "Densely mixing with 4\n",
      "Densely mixing with 2\n",
      "Densely mixing with 2\n",
      "Densely mixing with 4\n",
      "Densely mixing with 2\n",
      "Densely mixing with 2\n",
      "torch.Size([2560, 16, 16]) <-- torch.Size([40960, 4, 2, 2])\n",
      "Densely mixing with 16\n",
      "torch.Size([2560, 16, 16]) --> torch.Size([40960, 4, 2, 2])\n",
      "Densely mixing with 4\n",
      "Densely mixing with 2\n",
      "Densely mixing with 2\n",
      "Densely mixing with 4\n",
      "Densely mixing with 2\n",
      "Densely mixing with 2\n",
      "Densely mixing with 4\n",
      "Densely mixing with 2\n",
      "Densely mixing with 2\n",
      "torch.Size([2560, 16, 16]) <-- torch.Size([40960, 4, 2, 2])\n",
      "torch.Size([10, 256, 256]) <-- torch.Size([2560, 16, 16])\n",
      "torch.Size([10, 256, 256]) --> torch.Size([2560, 32, 8])\n",
      "Densely mixing with 32\n",
      "Densely mixing with 8\n",
      "Densely mixing with 32\n",
      "Densely mixing with 8\n",
      "torch.Size([10, 256, 256]) <-- torch.Size([2560, 32, 8])\n",
      "torch.Size([10, 256, 256]) --> torch.Size([2560, 16, 16])\n",
      "Densely mixing with 16\n",
      "torch.Size([2560, 16, 16]) --> torch.Size([40960, 4, 2, 2])\n",
      "Densely mixing with 4\n",
      "Densely mixing with 2\n",
      "Densely mixing with 2\n",
      "Densely mixing with 4\n",
      "Densely mixing with 2\n",
      "Densely mixing with 2\n",
      "Densely mixing with 4\n",
      "Densely mixing with 2\n",
      "Densely mixing with 2\n",
      "torch.Size([2560, 16, 16]) <-- torch.Size([40960, 4, 2, 2])\n",
      "Densely mixing with 16\n",
      "torch.Size([2560, 16, 16]) --> torch.Size([40960, 4, 2, 2])\n",
      "Densely mixing with 4\n",
      "Densely mixing with 2\n",
      "Densely mixing with 2\n",
      "Densely mixing with 4\n",
      "Densely mixing with 2\n",
      "Densely mixing with 2\n",
      "Densely mixing with 4\n",
      "Densely mixing with 2\n",
      "Densely mixing with 2\n",
      "torch.Size([2560, 16, 16]) <-- torch.Size([40960, 4, 2, 2])\n",
      "torch.Size([10, 256, 256]) <-- torch.Size([2560, 16, 16])\n",
      "torch.Size([10, 256, 256]) --> torch.Size([2560, 32, 8])\n",
      "Densely mixing with 32\n",
      "Densely mixing with 8\n",
      "Densely mixing with 32\n",
      "Densely mixing with 8\n",
      "torch.Size([10, 256, 256]) <-- torch.Size([2560, 32, 8])\n",
      "torch.Size([10, 256, 256]) --> torch.Size([2560, 16, 16])\n",
      "Densely mixing with 16\n",
      "torch.Size([2560, 16, 16]) --> torch.Size([40960, 4, 2, 2])\n",
      "Densely mixing with 4\n",
      "Densely mixing with 2\n",
      "Densely mixing with 2\n",
      "Densely mixing with 4\n",
      "Densely mixing with 2\n",
      "Densely mixing with 2\n",
      "Densely mixing with 4\n",
      "Densely mixing with 2\n",
      "Densely mixing with 2\n",
      "torch.Size([2560, 16, 16]) <-- torch.Size([40960, 4, 2, 2])\n",
      "Densely mixing with 16\n",
      "torch.Size([2560, 16, 16]) --> torch.Size([40960, 4, 2, 2])\n",
      "Densely mixing with 4\n",
      "Densely mixing with 2\n",
      "Densely mixing with 2\n",
      "Densely mixing with 4\n",
      "Densely mixing with 2\n",
      "Densely mixing with 2\n",
      "Densely mixing with 4\n",
      "Densely mixing with 2\n",
      "Densely mixing with 2\n",
      "torch.Size([2560, 16, 16]) <-- torch.Size([40960, 4, 2, 2])\n",
      "torch.Size([10, 256, 256]) <-- torch.Size([2560, 16, 16])\n",
      "torch.Size([10, 65536]) <-- torch.Size([10, 256, 256])\n"
     ]
    },
    {
     "data": {
      "text/plain": [
       "torch.Size([10, 65536])"
      ]
     },
     "execution_count": 206,
     "metadata": {},
     "output_type": "execute_result"
    }
   ],
   "source": [
    "\n",
    "# with contextlib.redirect_stdout(None):\n",
    "net = MLPShakerBlock([[32, 8], [16, [4,2,2]]], [3, 2, 3])\n",
    "#     net = MLPShakerBlock([256, 256], [3])\n",
    "print('# parameters: ', count_params(net))\n",
    "net(torch.randn(10, 256*256)).shape"
   ]
  },
  {
   "cell_type": "code",
   "execution_count": 205,
   "metadata": {},
   "outputs": [
    {
     "data": {
      "text/plain": [
       "8976"
      ]
     },
     "execution_count": 205,
     "metadata": {},
     "output_type": "execute_result"
    }
   ],
   "source": [
    "((4*5+2*3+2*3)*3+16*17+8*9+32*33)*2*3"
   ]
  },
  {
   "cell_type": "code",
   "execution_count": null,
   "metadata": {},
   "outputs": [],
   "source": []
  },
  {
   "cell_type": "code",
   "execution_count": 139,
   "metadata": {},
   "outputs": [
    {
     "data": {
      "text/plain": [
       "[MLPShakerBlock(\n",
       "   (mixings): ModuleList(\n",
       "     (0): ModuleList(\n",
       "       (0): MLPShakerBlock(\n",
       "         (mixings): ModuleList(\n",
       "           (0): ModuleList(\n",
       "             (0): Linear(in_features=16, out_features=16, bias=True)\n",
       "             (1): MLPShakerBlock(\n",
       "               (mixings): ModuleList(\n",
       "                 (0): ModuleList(\n",
       "                   (0): Linear(in_features=4, out_features=4, bias=True)\n",
       "                   (1): Linear(in_features=4, out_features=4, bias=True)\n",
       "                 )\n",
       "                 (1): ModuleList(\n",
       "                   (0): Linear(in_features=4, out_features=4, bias=True)\n",
       "                   (1): Linear(in_features=4, out_features=4, bias=True)\n",
       "                 )\n",
       "                 (2): ModuleList(\n",
       "                   (0): Linear(in_features=4, out_features=4, bias=True)\n",
       "                   (1): Linear(in_features=4, out_features=4, bias=True)\n",
       "                 )\n",
       "               )\n",
       "             )\n",
       "           )\n",
       "           (1): ModuleList(\n",
       "             (0): Linear(in_features=16, out_features=16, bias=True)\n",
       "             (1): MLPShakerBlock(\n",
       "               (mixings): ModuleList(\n",
       "                 (0): ModuleList(\n",
       "                   (0): Linear(in_features=4, out_features=4, bias=True)\n",
       "                   (1): Linear(in_features=4, out_features=4, bias=True)\n",
       "                 )\n",
       "                 (1): ModuleList(\n",
       "                   (0): Linear(in_features=4, out_features=4, bias=True)\n",
       "                   (1): Linear(in_features=4, out_features=4, bias=True)\n",
       "                 )\n",
       "                 (2): ModuleList(\n",
       "                   (0): Linear(in_features=4, out_features=4, bias=True)\n",
       "                   (1): Linear(in_features=4, out_features=4, bias=True)\n",
       "                 )\n",
       "               )\n",
       "             )\n",
       "           )\n",
       "         )\n",
       "       )\n",
       "       (1): MLPShakerBlock(\n",
       "         (mixings): ModuleList(\n",
       "           (0): ModuleList(\n",
       "             (0): Linear(in_features=32, out_features=32, bias=True)\n",
       "             (1): Linear(in_features=8, out_features=8, bias=True)\n",
       "           )\n",
       "           (1): ModuleList(\n",
       "             (0): Linear(in_features=32, out_features=32, bias=True)\n",
       "             (1): Linear(in_features=8, out_features=8, bias=True)\n",
       "           )\n",
       "         )\n",
       "       )\n",
       "     )\n",
       "   )\n",
       " ),\n",
       " ModuleList(\n",
       "   (0): ModuleList(\n",
       "     (0): MLPShakerBlock(\n",
       "       (mixings): ModuleList(\n",
       "         (0): ModuleList(\n",
       "           (0): Linear(in_features=16, out_features=16, bias=True)\n",
       "           (1): MLPShakerBlock(\n",
       "             (mixings): ModuleList(\n",
       "               (0): ModuleList(\n",
       "                 (0): Linear(in_features=4, out_features=4, bias=True)\n",
       "                 (1): Linear(in_features=4, out_features=4, bias=True)\n",
       "               )\n",
       "               (1): ModuleList(\n",
       "                 (0): Linear(in_features=4, out_features=4, bias=True)\n",
       "                 (1): Linear(in_features=4, out_features=4, bias=True)\n",
       "               )\n",
       "               (2): ModuleList(\n",
       "                 (0): Linear(in_features=4, out_features=4, bias=True)\n",
       "                 (1): Linear(in_features=4, out_features=4, bias=True)\n",
       "               )\n",
       "             )\n",
       "           )\n",
       "         )\n",
       "         (1): ModuleList(\n",
       "           (0): Linear(in_features=16, out_features=16, bias=True)\n",
       "           (1): MLPShakerBlock(\n",
       "             (mixings): ModuleList(\n",
       "               (0): ModuleList(\n",
       "                 (0): Linear(in_features=4, out_features=4, bias=True)\n",
       "                 (1): Linear(in_features=4, out_features=4, bias=True)\n",
       "               )\n",
       "               (1): ModuleList(\n",
       "                 (0): Linear(in_features=4, out_features=4, bias=True)\n",
       "                 (1): Linear(in_features=4, out_features=4, bias=True)\n",
       "               )\n",
       "               (2): ModuleList(\n",
       "                 (0): Linear(in_features=4, out_features=4, bias=True)\n",
       "                 (1): Linear(in_features=4, out_features=4, bias=True)\n",
       "               )\n",
       "             )\n",
       "           )\n",
       "         )\n",
       "       )\n",
       "     )\n",
       "     (1): MLPShakerBlock(\n",
       "       (mixings): ModuleList(\n",
       "         (0): ModuleList(\n",
       "           (0): Linear(in_features=32, out_features=32, bias=True)\n",
       "           (1): Linear(in_features=8, out_features=8, bias=True)\n",
       "         )\n",
       "         (1): ModuleList(\n",
       "           (0): Linear(in_features=32, out_features=32, bias=True)\n",
       "           (1): Linear(in_features=8, out_features=8, bias=True)\n",
       "         )\n",
       "       )\n",
       "     )\n",
       "   )\n",
       " ),\n",
       " ModuleList(\n",
       "   (0): MLPShakerBlock(\n",
       "     (mixings): ModuleList(\n",
       "       (0): ModuleList(\n",
       "         (0): Linear(in_features=16, out_features=16, bias=True)\n",
       "         (1): MLPShakerBlock(\n",
       "           (mixings): ModuleList(\n",
       "             (0): ModuleList(\n",
       "               (0): Linear(in_features=4, out_features=4, bias=True)\n",
       "               (1): Linear(in_features=4, out_features=4, bias=True)\n",
       "             )\n",
       "             (1): ModuleList(\n",
       "               (0): Linear(in_features=4, out_features=4, bias=True)\n",
       "               (1): Linear(in_features=4, out_features=4, bias=True)\n",
       "             )\n",
       "             (2): ModuleList(\n",
       "               (0): Linear(in_features=4, out_features=4, bias=True)\n",
       "               (1): Linear(in_features=4, out_features=4, bias=True)\n",
       "             )\n",
       "           )\n",
       "         )\n",
       "       )\n",
       "       (1): ModuleList(\n",
       "         (0): Linear(in_features=16, out_features=16, bias=True)\n",
       "         (1): MLPShakerBlock(\n",
       "           (mixings): ModuleList(\n",
       "             (0): ModuleList(\n",
       "               (0): Linear(in_features=4, out_features=4, bias=True)\n",
       "               (1): Linear(in_features=4, out_features=4, bias=True)\n",
       "             )\n",
       "             (1): ModuleList(\n",
       "               (0): Linear(in_features=4, out_features=4, bias=True)\n",
       "               (1): Linear(in_features=4, out_features=4, bias=True)\n",
       "             )\n",
       "             (2): ModuleList(\n",
       "               (0): Linear(in_features=4, out_features=4, bias=True)\n",
       "               (1): Linear(in_features=4, out_features=4, bias=True)\n",
       "             )\n",
       "           )\n",
       "         )\n",
       "       )\n",
       "     )\n",
       "   )\n",
       "   (1): MLPShakerBlock(\n",
       "     (mixings): ModuleList(\n",
       "       (0): ModuleList(\n",
       "         (0): Linear(in_features=32, out_features=32, bias=True)\n",
       "         (1): Linear(in_features=8, out_features=8, bias=True)\n",
       "       )\n",
       "       (1): ModuleList(\n",
       "         (0): Linear(in_features=32, out_features=32, bias=True)\n",
       "         (1): Linear(in_features=8, out_features=8, bias=True)\n",
       "       )\n",
       "     )\n",
       "   )\n",
       " ),\n",
       " MLPShakerBlock(\n",
       "   (mixings): ModuleList(\n",
       "     (0): ModuleList(\n",
       "       (0): Linear(in_features=16, out_features=16, bias=True)\n",
       "       (1): MLPShakerBlock(\n",
       "         (mixings): ModuleList(\n",
       "           (0): ModuleList(\n",
       "             (0): Linear(in_features=4, out_features=4, bias=True)\n",
       "             (1): Linear(in_features=4, out_features=4, bias=True)\n",
       "           )\n",
       "           (1): ModuleList(\n",
       "             (0): Linear(in_features=4, out_features=4, bias=True)\n",
       "             (1): Linear(in_features=4, out_features=4, bias=True)\n",
       "           )\n",
       "           (2): ModuleList(\n",
       "             (0): Linear(in_features=4, out_features=4, bias=True)\n",
       "             (1): Linear(in_features=4, out_features=4, bias=True)\n",
       "           )\n",
       "         )\n",
       "       )\n",
       "     )\n",
       "     (1): ModuleList(\n",
       "       (0): Linear(in_features=16, out_features=16, bias=True)\n",
       "       (1): MLPShakerBlock(\n",
       "         (mixings): ModuleList(\n",
       "           (0): ModuleList(\n",
       "             (0): Linear(in_features=4, out_features=4, bias=True)\n",
       "             (1): Linear(in_features=4, out_features=4, bias=True)\n",
       "           )\n",
       "           (1): ModuleList(\n",
       "             (0): Linear(in_features=4, out_features=4, bias=True)\n",
       "             (1): Linear(in_features=4, out_features=4, bias=True)\n",
       "           )\n",
       "           (2): ModuleList(\n",
       "             (0): Linear(in_features=4, out_features=4, bias=True)\n",
       "             (1): Linear(in_features=4, out_features=4, bias=True)\n",
       "           )\n",
       "         )\n",
       "       )\n",
       "     )\n",
       "   )\n",
       " ),\n",
       " ModuleList(\n",
       "   (0): ModuleList(\n",
       "     (0): Linear(in_features=16, out_features=16, bias=True)\n",
       "     (1): MLPShakerBlock(\n",
       "       (mixings): ModuleList(\n",
       "         (0): ModuleList(\n",
       "           (0): Linear(in_features=4, out_features=4, bias=True)\n",
       "           (1): Linear(in_features=4, out_features=4, bias=True)\n",
       "         )\n",
       "         (1): ModuleList(\n",
       "           (0): Linear(in_features=4, out_features=4, bias=True)\n",
       "           (1): Linear(in_features=4, out_features=4, bias=True)\n",
       "         )\n",
       "         (2): ModuleList(\n",
       "           (0): Linear(in_features=4, out_features=4, bias=True)\n",
       "           (1): Linear(in_features=4, out_features=4, bias=True)\n",
       "         )\n",
       "       )\n",
       "     )\n",
       "   )\n",
       "   (1): ModuleList(\n",
       "     (0): Linear(in_features=16, out_features=16, bias=True)\n",
       "     (1): MLPShakerBlock(\n",
       "       (mixings): ModuleList(\n",
       "         (0): ModuleList(\n",
       "           (0): Linear(in_features=4, out_features=4, bias=True)\n",
       "           (1): Linear(in_features=4, out_features=4, bias=True)\n",
       "         )\n",
       "         (1): ModuleList(\n",
       "           (0): Linear(in_features=4, out_features=4, bias=True)\n",
       "           (1): Linear(in_features=4, out_features=4, bias=True)\n",
       "         )\n",
       "         (2): ModuleList(\n",
       "           (0): Linear(in_features=4, out_features=4, bias=True)\n",
       "           (1): Linear(in_features=4, out_features=4, bias=True)\n",
       "         )\n",
       "       )\n",
       "     )\n",
       "   )\n",
       " ),\n",
       " ModuleList(\n",
       "   (0): Linear(in_features=16, out_features=16, bias=True)\n",
       "   (1): MLPShakerBlock(\n",
       "     (mixings): ModuleList(\n",
       "       (0): ModuleList(\n",
       "         (0): Linear(in_features=4, out_features=4, bias=True)\n",
       "         (1): Linear(in_features=4, out_features=4, bias=True)\n",
       "       )\n",
       "       (1): ModuleList(\n",
       "         (0): Linear(in_features=4, out_features=4, bias=True)\n",
       "         (1): Linear(in_features=4, out_features=4, bias=True)\n",
       "       )\n",
       "       (2): ModuleList(\n",
       "         (0): Linear(in_features=4, out_features=4, bias=True)\n",
       "         (1): Linear(in_features=4, out_features=4, bias=True)\n",
       "       )\n",
       "     )\n",
       "   )\n",
       " ),\n",
       " Linear(in_features=16, out_features=16, bias=True),\n",
       " MLPShakerBlock(\n",
       "   (mixings): ModuleList(\n",
       "     (0): ModuleList(\n",
       "       (0): Linear(in_features=4, out_features=4, bias=True)\n",
       "       (1): Linear(in_features=4, out_features=4, bias=True)\n",
       "     )\n",
       "     (1): ModuleList(\n",
       "       (0): Linear(in_features=4, out_features=4, bias=True)\n",
       "       (1): Linear(in_features=4, out_features=4, bias=True)\n",
       "     )\n",
       "     (2): ModuleList(\n",
       "       (0): Linear(in_features=4, out_features=4, bias=True)\n",
       "       (1): Linear(in_features=4, out_features=4, bias=True)\n",
       "     )\n",
       "   )\n",
       " ),\n",
       " ModuleList(\n",
       "   (0): ModuleList(\n",
       "     (0): Linear(in_features=4, out_features=4, bias=True)\n",
       "     (1): Linear(in_features=4, out_features=4, bias=True)\n",
       "   )\n",
       "   (1): ModuleList(\n",
       "     (0): Linear(in_features=4, out_features=4, bias=True)\n",
       "     (1): Linear(in_features=4, out_features=4, bias=True)\n",
       "   )\n",
       "   (2): ModuleList(\n",
       "     (0): Linear(in_features=4, out_features=4, bias=True)\n",
       "     (1): Linear(in_features=4, out_features=4, bias=True)\n",
       "   )\n",
       " ),\n",
       " ModuleList(\n",
       "   (0): Linear(in_features=4, out_features=4, bias=True)\n",
       "   (1): Linear(in_features=4, out_features=4, bias=True)\n",
       " ),\n",
       " Linear(in_features=4, out_features=4, bias=True),\n",
       " Linear(in_features=4, out_features=4, bias=True),\n",
       " ModuleList(\n",
       "   (0): Linear(in_features=4, out_features=4, bias=True)\n",
       "   (1): Linear(in_features=4, out_features=4, bias=True)\n",
       " ),\n",
       " Linear(in_features=4, out_features=4, bias=True),\n",
       " Linear(in_features=4, out_features=4, bias=True),\n",
       " ModuleList(\n",
       "   (0): Linear(in_features=4, out_features=4, bias=True)\n",
       "   (1): Linear(in_features=4, out_features=4, bias=True)\n",
       " ),\n",
       " Linear(in_features=4, out_features=4, bias=True),\n",
       " Linear(in_features=4, out_features=4, bias=True),\n",
       " ModuleList(\n",
       "   (0): Linear(in_features=16, out_features=16, bias=True)\n",
       "   (1): MLPShakerBlock(\n",
       "     (mixings): ModuleList(\n",
       "       (0): ModuleList(\n",
       "         (0): Linear(in_features=4, out_features=4, bias=True)\n",
       "         (1): Linear(in_features=4, out_features=4, bias=True)\n",
       "       )\n",
       "       (1): ModuleList(\n",
       "         (0): Linear(in_features=4, out_features=4, bias=True)\n",
       "         (1): Linear(in_features=4, out_features=4, bias=True)\n",
       "       )\n",
       "       (2): ModuleList(\n",
       "         (0): Linear(in_features=4, out_features=4, bias=True)\n",
       "         (1): Linear(in_features=4, out_features=4, bias=True)\n",
       "       )\n",
       "     )\n",
       "   )\n",
       " ),\n",
       " Linear(in_features=16, out_features=16, bias=True),\n",
       " MLPShakerBlock(\n",
       "   (mixings): ModuleList(\n",
       "     (0): ModuleList(\n",
       "       (0): Linear(in_features=4, out_features=4, bias=True)\n",
       "       (1): Linear(in_features=4, out_features=4, bias=True)\n",
       "     )\n",
       "     (1): ModuleList(\n",
       "       (0): Linear(in_features=4, out_features=4, bias=True)\n",
       "       (1): Linear(in_features=4, out_features=4, bias=True)\n",
       "     )\n",
       "     (2): ModuleList(\n",
       "       (0): Linear(in_features=4, out_features=4, bias=True)\n",
       "       (1): Linear(in_features=4, out_features=4, bias=True)\n",
       "     )\n",
       "   )\n",
       " ),\n",
       " ModuleList(\n",
       "   (0): ModuleList(\n",
       "     (0): Linear(in_features=4, out_features=4, bias=True)\n",
       "     (1): Linear(in_features=4, out_features=4, bias=True)\n",
       "   )\n",
       "   (1): ModuleList(\n",
       "     (0): Linear(in_features=4, out_features=4, bias=True)\n",
       "     (1): Linear(in_features=4, out_features=4, bias=True)\n",
       "   )\n",
       "   (2): ModuleList(\n",
       "     (0): Linear(in_features=4, out_features=4, bias=True)\n",
       "     (1): Linear(in_features=4, out_features=4, bias=True)\n",
       "   )\n",
       " ),\n",
       " ModuleList(\n",
       "   (0): Linear(in_features=4, out_features=4, bias=True)\n",
       "   (1): Linear(in_features=4, out_features=4, bias=True)\n",
       " ),\n",
       " Linear(in_features=4, out_features=4, bias=True),\n",
       " Linear(in_features=4, out_features=4, bias=True),\n",
       " ModuleList(\n",
       "   (0): Linear(in_features=4, out_features=4, bias=True)\n",
       "   (1): Linear(in_features=4, out_features=4, bias=True)\n",
       " ),\n",
       " Linear(in_features=4, out_features=4, bias=True),\n",
       " Linear(in_features=4, out_features=4, bias=True),\n",
       " ModuleList(\n",
       "   (0): Linear(in_features=4, out_features=4, bias=True)\n",
       "   (1): Linear(in_features=4, out_features=4, bias=True)\n",
       " ),\n",
       " Linear(in_features=4, out_features=4, bias=True),\n",
       " Linear(in_features=4, out_features=4, bias=True),\n",
       " MLPShakerBlock(\n",
       "   (mixings): ModuleList(\n",
       "     (0): ModuleList(\n",
       "       (0): Linear(in_features=32, out_features=32, bias=True)\n",
       "       (1): Linear(in_features=8, out_features=8, bias=True)\n",
       "     )\n",
       "     (1): ModuleList(\n",
       "       (0): Linear(in_features=32, out_features=32, bias=True)\n",
       "       (1): Linear(in_features=8, out_features=8, bias=True)\n",
       "     )\n",
       "   )\n",
       " ),\n",
       " ModuleList(\n",
       "   (0): ModuleList(\n",
       "     (0): Linear(in_features=32, out_features=32, bias=True)\n",
       "     (1): Linear(in_features=8, out_features=8, bias=True)\n",
       "   )\n",
       "   (1): ModuleList(\n",
       "     (0): Linear(in_features=32, out_features=32, bias=True)\n",
       "     (1): Linear(in_features=8, out_features=8, bias=True)\n",
       "   )\n",
       " ),\n",
       " ModuleList(\n",
       "   (0): Linear(in_features=32, out_features=32, bias=True)\n",
       "   (1): Linear(in_features=8, out_features=8, bias=True)\n",
       " ),\n",
       " Linear(in_features=32, out_features=32, bias=True),\n",
       " Linear(in_features=8, out_features=8, bias=True),\n",
       " ModuleList(\n",
       "   (0): Linear(in_features=32, out_features=32, bias=True)\n",
       "   (1): Linear(in_features=8, out_features=8, bias=True)\n",
       " ),\n",
       " Linear(in_features=32, out_features=32, bias=True),\n",
       " Linear(in_features=8, out_features=8, bias=True)]"
      ]
     },
     "execution_count": 139,
     "metadata": {},
     "output_type": "execute_result"
    }
   ],
   "source": [
    "list(net.modules())"
   ]
  },
  {
   "cell_type": "code",
   "execution_count": null,
   "metadata": {},
   "outputs": [],
   "source": []
  },
  {
   "cell_type": "code",
   "execution_count": null,
   "metadata": {},
   "outputs": [],
   "source": []
  },
  {
   "cell_type": "code",
   "execution_count": 108,
   "metadata": {},
   "outputs": [
    {
     "ename": "NameError",
     "evalue": "name 'do_thing' is not defined",
     "output_type": "error",
     "traceback": [
      "\u001b[0;31m---------------------------------------------------------------------------\u001b[0m",
      "\u001b[0;31mNameError\u001b[0m                                 Traceback (most recent call last)",
      "\u001b[0;32m<ipython-input-108-8ddb7946bf9d>\u001b[0m in \u001b[0;36m<module>\u001b[0;34m\u001b[0m\n\u001b[1;32m      2\u001b[0m \u001b[0;34m\u001b[0m\u001b[0m\n\u001b[1;32m      3\u001b[0m \u001b[0;32mwith\u001b[0m \u001b[0mcontextlib\u001b[0m\u001b[0;34m.\u001b[0m\u001b[0mredirect_stdout\u001b[0m\u001b[0;34m(\u001b[0m\u001b[0;32mNone\u001b[0m\u001b[0;34m)\u001b[0m\u001b[0;34m:\u001b[0m\u001b[0;34m\u001b[0m\u001b[0;34m\u001b[0m\u001b[0m\n\u001b[0;32m----> 4\u001b[0;31m     \u001b[0mdo_thing\u001b[0m\u001b[0;34m(\u001b[0m\u001b[0;34m)\u001b[0m\u001b[0;34m\u001b[0m\u001b[0;34m\u001b[0m\u001b[0m\n\u001b[0m",
      "\u001b[0;31mNameError\u001b[0m: name 'do_thing' is not defined"
     ]
    }
   ],
   "source": [
    "import contextlib\n",
    "\n",
    "    "
   ]
  },
  {
   "cell_type": "code",
   "execution_count": null,
   "metadata": {},
   "outputs": [],
   "source": []
  }
 ],
 "metadata": {
  "kernelspec": {
   "display_name": "Python 3",
   "language": "python",
   "name": "python3"
  },
  "language_info": {
   "codemirror_mode": {
    "name": "ipython",
    "version": 3
   },
   "file_extension": ".py",
   "mimetype": "text/x-python",
   "name": "python",
   "nbconvert_exporter": "python",
   "pygments_lexer": "ipython3",
   "version": "3.7.5"
  }
 },
 "nbformat": 4,
 "nbformat_minor": 4
}
